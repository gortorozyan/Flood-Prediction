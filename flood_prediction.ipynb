{
 "cells": [
  {
   "cell_type": "code",
   "execution_count": 19,
   "id": "4a8befc9-87b9-4aa4-96a0-00e8e16c26cf",
   "metadata": {},
   "outputs": [],
   "source": [
    "import pandas as pd\n",
    "import numpy as np\n",
    "import matplotlib.pyplot as plt\n",
    "from sklearn.model_selection import train_test_split\n",
    "import seaborn as sns\n",
    "from Handling_Outliers import Handling_Outliers \n",
    "from xgboost import XGBRegressor\n",
    "from sklearn.preprocessing import StandardScaler\n",
    "from sklearn.metrics import accuracy_score, mean_squared_error"
   ]
  },
  {
   "cell_type": "code",
   "execution_count": 20,
   "id": "e9d6a19f-4f1a-45ec-ab53-3731d2516d73",
   "metadata": {
    "scrolled": true
   },
   "outputs": [],
   "source": [
    "df_train = pd.read_csv('train.csv')\n",
    "df_test = pd.read_csv('test.csv')"
   ]
  },
  {
   "cell_type": "code",
   "execution_count": 22,
   "id": "5d88fe2e-a35e-4e84-b1c6-93d60de8df19",
   "metadata": {},
   "outputs": [],
   "source": [
    "df_id = pd.DataFrame({\n",
    "    'id':df_test['id']\n",
    "})\n",
    "df_train.drop('id',axis=1,inplace=True)\n",
    "df_test.drop('id',axis=1,inplace=True)"
   ]
  },
  {
   "cell_type": "code",
   "execution_count": 23,
   "id": "16f3c195-b507-4a74-b2b6-de6387828f35",
   "metadata": {},
   "outputs": [],
   "source": [
    "scaler = StandardScaler()\n",
    "scaled_train = scaler.fit_transform(df_train.drop('FloodProbability', axis=1))\n",
    "scaled_test = scaler.transform(df_test)"
   ]
  },
  {
   "cell_type": "code",
   "execution_count": 27,
   "id": "ce9cdb86-5224-408f-81c1-e031faf416cd",
   "metadata": {},
   "outputs": [],
   "source": [
    "X = scaled_train\n",
    "y = df_train['FloodProbability']\n",
    "\n",
    "X_train, X_val, y_train, y_val = train_test_split(X, y, test_size=0.33, random_state=42)"
   ]
  },
  {
   "cell_type": "code",
   "execution_count": 35,
   "id": "dfdbf1d3-3f25-43ed-a257-92737bf4c2b4",
   "metadata": {},
   "outputs": [
    {
     "name": "stdout",
     "output_type": "stream",
     "text": [
      "Submission file created: submission7777.csv\n"
     ]
    }
   ],
   "source": [
    "model = XGBRegressor(n_estimators=200, learning_rate=0.05, max_depth=5, subsample=0.8, colsample_bytree=0.8)\n",
    "model.fit(X_train, y_train)\n",
    "\n",
    "\n",
    "y_val_pred = model.predict(X_val)\n",
    "\n",
    "\n",
    "y_test_pred = model.predict(scaled_test)\n",
    "\n",
    "submission = pd.DataFrame({\n",
    "    'id': df_id['id'],  \n",
    "    'Exited': y_test_pred\n",
    "})\n",
    "\n",
    "submission.to_csv('submission7777.csv', index=False)\n",
    "print(\"Submission file created: submission7777.csv\") "
   ]
  },
  {
   "cell_type": "code",
   "execution_count": null,
   "id": "8cf07b22-a978-4fdf-bf94-207eb100f78b",
   "metadata": {},
   "outputs": [],
   "source": []
  }
 ],
 "metadata": {
  "kernelspec": {
   "display_name": "Python 3 (ipykernel)",
   "language": "python",
   "name": "python3"
  },
  "language_info": {
   "codemirror_mode": {
    "name": "ipython",
    "version": 3
   },
   "file_extension": ".py",
   "mimetype": "text/x-python",
   "name": "python",
   "nbconvert_exporter": "python",
   "pygments_lexer": "ipython3",
   "version": "3.10.4"
  }
 },
 "nbformat": 4,
 "nbformat_minor": 5
}
